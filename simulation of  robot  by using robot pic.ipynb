{
 "cells": [
  {
   "cell_type": "code",
   "execution_count": 1,
   "id": "b635944e",
   "metadata": {
    "scrolled": true
   },
   "outputs": [
    {
     "ename": "SyntaxError",
     "evalue": "invalid syntax (2818194442.py, line 1)",
     "output_type": "error",
     "traceback": [
      "\u001b[1;36m  Cell \u001b[1;32mIn[1], line 1\u001b[1;36m\u001b[0m\n\u001b[1;33m    f=open(.txt,\"r\")\u001b[0m\n\u001b[1;37m           ^\u001b[0m\n\u001b[1;31mSyntaxError\u001b[0m\u001b[1;31m:\u001b[0m invalid syntax\n"
     ]
    }
   ],
   "source": [
    "f=open(.txt,\"r\")\n"
   ]
  },
  {
   "cell_type": "code",
   "execution_count": null,
   "id": "e8637728",
   "metadata": {},
   "outputs": [],
   "source": [
    "import sys"
   ]
  },
  {
   "cell_type": "code",
   "execution_count": null,
   "id": "a5a2f0c5",
   "metadata": {},
   "outputs": [],
   "source": [
    "print( sys.version)"
   ]
  },
  {
   "cell_type": "code",
   "execution_count": null,
   "id": "5540230c",
   "metadata": {},
   "outputs": [],
   "source": [
    "if 5>2:\n",
    " print(\"five is greater the two\");"
   ]
  },
  {
   "cell_type": "code",
   "execution_count": null,
   "id": "5a59b2fb",
   "metadata": {},
   "outputs": [],
   "source": [
    "if 5<2:\n",
    "   print(\" five  is greater tha two\")\n",
    "else:\n",
    "    5<2\n",
    "    print(\"five is lesser the two\")"
   ]
  },
  {
   "cell_type": "code",
   "execution_count": null,
   "id": "4bb8ea96",
   "metadata": {},
   "outputs": [],
   "source": [
    "#this is commetn"
   ]
  },
  {
   "cell_type": "code",
   "execution_count": null,
   "id": "51b1a633",
   "metadata": {},
   "outputs": [],
   "source": [
    "x=5\n",
    "y= \"hello world!\"\n"
   ]
  },
  {
   "cell_type": "code",
   "execution_count": null,
   "id": "1c1cac3c",
   "metadata": {},
   "outputs": [],
   "source": [
    "print(x*y)"
   ]
  },
  {
   "cell_type": "code",
   "execution_count": null,
   "id": "dc3ac75e",
   "metadata": {},
   "outputs": [],
   "source": [
    "\"\"\"\n",
    "gdtjhoihj\n",
    "bhgyu\n",
    "nuigughu\n",
    "\"\"\"\n",
    "print(\"hello\")"
   ]
  },
  {
   "cell_type": "code",
   "execution_count": null,
   "id": "514f3ee2",
   "metadata": {},
   "outputs": [],
   "source": [
    "x= str(4)\n",
    "x = \"yyyy\"\n",
    "print(x)\n"
   ]
  },
  {
   "cell_type": "code",
   "execution_count": null,
   "id": "de0ad8f9",
   "metadata": {},
   "outputs": [],
   "source": [
    "x= float(4)\n",
    "print(x)\n",
    "\n",
    "a = 5\n",
    "b = \"joon\"\n",
    "print(type(a))\n",
    "print(type(b))\n"
   ]
  },
  {
   "cell_type": "code",
   "execution_count": null,
   "id": "c5e6703b",
   "metadata": {},
   "outputs": [],
   "source": [
    "myVariableName = \"John\"  #camel case \n",
    "MyVariableName = \"John\"  #pascal case\n",
    "my_variable_name = \"John\" #snake case"
   ]
  },
  {
   "cell_type": "code",
   "execution_count": null,
   "id": "5fa51ac9",
   "metadata": {},
   "outputs": [],
   "source": [
    "x, y, z = \"Orange\", \"Banana\", \"Cherry\"\n",
    "print(x)\n",
    "print(y)\n",
    "print(z)  #multiple value to multiple variable"
   ]
  },
  {
   "cell_type": "code",
   "execution_count": null,
   "id": "e694398d",
   "metadata": {},
   "outputs": [],
   "source": [
    "x = y = z = \"Orange\"\n",
    "print(x)\n",
    "print(y)\n",
    "print(z) # one value to multiple variable "
   ]
  },
  {
   "cell_type": "code",
   "execution_count": null,
   "id": "5e5720e6",
   "metadata": {},
   "outputs": [],
   "source": [
    "x = \"python\"\n",
    "y = \"is\"\n",
    "z = \"Awesome\"\n",
    "print(x, y, z)"
   ]
  },
  {
   "cell_type": "code",
   "execution_count": null,
   "id": "d756ff02",
   "metadata": {
    "scrolled": true
   },
   "outputs": [],
   "source": [
    "A = \"python is Awesome\"\n",
    "print(A)\n"
   ]
  },
  {
   "cell_type": "code",
   "execution_count": null,
   "id": "eaa9d8b3",
   "metadata": {},
   "outputs": [],
   "source": [
    "x =4\n",
    "y =5\n",
    "print (x+y)\n"
   ]
  },
  {
   "cell_type": "code",
   "execution_count": null,
   "id": "cfcc6df2",
   "metadata": {},
   "outputs": [],
   "source": [
    "x = \"awesome\"\n",
    "\n",
    "def myfunc():\n",
    "  print(\"Python is \" + x)\n",
    "\n",
    "myfunc()  # Global variable\n",
    "# the variable  crate  outside the function called  GB"
   ]
  },
  {
   "cell_type": "code",
   "execution_count": null,
   "id": "840fdf25",
   "metadata": {},
   "outputs": [],
   "source": [
    "x = \"awesome\"\n",
    "\n",
    "def myfunc():\n",
    "  x = \"fantastic\"\n",
    "  print(\"Python is \" + x)\n",
    "\n",
    "myfunc()\n",
    "\n",
    "print(\"Python is \" + x)\n",
    "#Local variable"
   ]
  },
  {
   "cell_type": "code",
   "execution_count": null,
   "id": "33872347",
   "metadata": {},
   "outputs": [],
   "source": [
    "a = \"Happy\"\n",
    "\n",
    "def myfunc():\n",
    "    global a\n",
    "    a = \"sad\"\n",
    "    \n",
    "    \n",
    "myfunc()\n",
    "print(\" im not \" + a)"
   ]
  },
  {
   "cell_type": "code",
   "execution_count": null,
   "id": "8e30bb96",
   "metadata": {},
   "outputs": [],
   "source": [
    "list = (2,3,4)\n",
    "tuples = [ \"dad\", \"dasd\"]\n",
    "sets = { \"da\", \"adqwd\", \"wdwq\"}\n"
   ]
  },
  {
   "cell_type": "code",
   "execution_count": null,
   "id": "371f32cd",
   "metadata": {},
   "outputs": [],
   "source": [
    "print(list)\n",
    "print(tuples)\n",
    "print(sets)\n"
   ]
  },
  {
   "cell_type": "code",
   "execution_count": null,
   "id": "86f9bee4",
   "metadata": {},
   "outputs": [],
   "source": [
    "import random\n",
    "print(random.randrange(1, 20))\n",
    "    "
   ]
  },
  {
   "cell_type": "code",
   "execution_count": null,
   "id": "7836fcdd",
   "metadata": {},
   "outputs": [],
   "source": [
    "x = 5\n",
    "x = complex(x)\n",
    "print(x)"
   ]
  },
  {
   "cell_type": "code",
   "execution_count": null,
   "id": "77341642",
   "metadata": {},
   "outputs": [],
   "source": [
    "w= \"IM very upset due to the job seeking\"\n",
    "if \"job\" in w:\n",
    "    print(\"yes, 'job' in  w\")\n",
    "    "
   ]
  },
  {
   "cell_type": "code",
   "execution_count": null,
   "id": "1ce46e08",
   "metadata": {},
   "outputs": [],
   "source": [
    "m= \"abcd theuf kjweufuew hiuie huiue\"\n",
    "print(\"abcd\" not in m)"
   ]
  },
  {
   "cell_type": "code",
   "execution_count": null,
   "id": "0c9d140d",
   "metadata": {},
   "outputs": [],
   "source": [
    "H = \"Hello World\"\n",
    "print(H[4])  #index\n",
    "print(H[2:5])  # slicing\n",
    "print(H[-7:-3]) #negative indexing"
   ]
  },
  {
   "cell_type": "code",
   "execution_count": null,
   "id": "3e95915f",
   "metadata": {},
   "outputs": [],
   "source": [
    "a= \"welcome\"\n",
    "print(a.upper())\n",
    "print(a.lower())"
   ]
  },
  {
   "cell_type": "code",
   "execution_count": null,
   "id": "c7cbb6df",
   "metadata": {},
   "outputs": [],
   "source": [
    "R = \"Hello World!       \"\n",
    "print(R.strip())  # Strip is used to  remove white  space that  space  from  start to end "
   ]
  },
  {
   "cell_type": "code",
   "execution_count": null,
   "id": "dc3cc076",
   "metadata": {},
   "outputs": [],
   "source": [
    "a = \"Hello, World!\"\n",
    "print(a.replace(\"H\", \"J\"))  # replace  the  string  \n",
    "\n",
    "\n",
    "b = \"Hello, World!\"\n",
    "print(b.split(\",\")) # split the  string"
   ]
  },
  {
   "cell_type": "code",
   "execution_count": null,
   "id": "58e9d4b3",
   "metadata": {},
   "outputs": [],
   "source": [
    "#concatination string\n",
    "e = \"lazy\"\n",
    "txt = \"my name is nik, I'm\" + e\n",
    "print(txt)"
   ]
  },
  {
   "cell_type": "code",
   "execution_count": null,
   "id": "980c2dbf",
   "metadata": {},
   "outputs": [],
   "source": [
    "# formate string \n",
    "age= 23\n",
    "txt = \"my name is nik, I'm\" + age\n",
    "\n"
   ]
  },
  {
   "cell_type": "code",
   "execution_count": null,
   "id": "ee94ddc6",
   "metadata": {},
   "outputs": [],
   "source": [
    "price= 23\n",
    "www = f\"my name is nik, I'm {age}\"\n",
    "print(www)"
   ]
  },
  {
   "cell_type": "code",
   "execution_count": null,
   "id": "453d3859",
   "metadata": {},
   "outputs": [],
   "source": [
    "price = 59\n",
    "txt = f\"The price is {price:.2f} dollars\"\n",
    "print(txt)  #Display the price with 2 decimals:\n"
   ]
  },
  {
   "cell_type": "code",
   "execution_count": null,
   "id": "f4db0cf4",
   "metadata": {},
   "outputs": [],
   "source": [
    "\"café\".encode(\"ascii\", \"backslashreplace\") "
   ]
  },
  {
   "cell_type": "code",
   "execution_count": null,
   "id": "d80fa0d5",
   "metadata": {},
   "outputs": [],
   "source": [
    "\"racé\".encode(\"ascii\", \"ignore\")"
   ]
  },
  {
   "cell_type": "code",
   "execution_count": null,
   "id": "1647acfb",
   "metadata": {},
   "outputs": [],
   "source": [
    "\"acé\".encode(\"ascii\", \"namereplace\")"
   ]
  },
  {
   "cell_type": "code",
   "execution_count": null,
   "id": "5e5d3690",
   "metadata": {},
   "outputs": [],
   "source": [
    "\"facé\".encode(\"ascii\", \"replace\")"
   ]
  },
  {
   "cell_type": "code",
   "execution_count": null,
   "id": "481c84ae",
   "metadata": {},
   "outputs": [],
   "source": [
    "\"micé\".encode(\"ascii\", \"xmlcharrefreplace\")"
   ]
  },
  {
   "cell_type": "code",
   "execution_count": null,
   "id": "4ec05d1f",
   "metadata": {},
   "outputs": [],
   "source": [
    "\"café\".encode(\"ascii\", \"strict\")"
   ]
  },
  {
   "cell_type": "code",
   "execution_count": null,
   "id": "6ed6b4ce",
   "metadata": {},
   "outputs": [],
   "source": [
    "68.7/1.79**2"
   ]
  },
  {
   "cell_type": "code",
   "execution_count": null,
   "id": "b2555b82",
   "metadata": {},
   "outputs": [],
   "source": [
    "#looping\n",
    " \n",
    "list = [\"Apple\", \"banana\", \"cherry\", \"mango\", \"watermelon\"]\n",
    "for x in list:\n",
    "    print(x)"
   ]
  },
  {
   "cell_type": "code",
   "execution_count": null,
   "id": "e7608e60",
   "metadata": {},
   "outputs": [],
   "source": [
    "#looping with the list index\n",
    "list = [\"Apple\", \"banana\", \"cherry\", \"mango\", \"watermelon\"]\n",
    "\n",
    "for i in range(len(list)):\n",
    "    print(list[i])"
   ]
  },
  {
   "cell_type": "code",
   "execution_count": null,
   "id": "55ffd943",
   "metadata": {},
   "outputs": [],
   "source": [
    "#while loop\n",
    "\n",
    "i = 0\n",
    "while i < len(list):\n",
    "    print(list[i])\n",
    "    i += 1 # or (i + = 1)"
   ]
  },
  {
   "cell_type": "code",
   "execution_count": null,
   "id": "bcc0c05b",
   "metadata": {},
   "outputs": [],
   "source": [
    "#comprehension\n",
    "thislist = [\"apple\", \"banana\", \"cherry\"]\n",
    "[print(x) for x in  thislist]"
   ]
  },
  {
   "cell_type": "code",
   "execution_count": null,
   "id": "90899b0d",
   "metadata": {},
   "outputs": [],
   "source": [
    "#list  comprehension\n",
    "\n",
    "fruits = [\"apple\", \"banana\", \"cherry\", \"kiwi\", \"mango\"]\n",
    "newlist = []\n",
    "\n",
    "for x in fruits:\n",
    "    if \"a\" in  x:\n",
    "        newlist.append(x)\n",
    "  \n",
    "print(newlist)"
   ]
  },
  {
   "cell_type": "code",
   "execution_count": null,
   "id": "e85f8688",
   "metadata": {},
   "outputs": [],
   "source": [
    "fruits = [\"apple\", \"banana\", \"cherry\", \"kiwi\", \"mango\"]\n",
    "newlist = []\n",
    "\n",
    "for x in fruits:\n",
    "    if \"a\" not in  x:\n",
    "        newlist.append(x)\n",
    "  \n",
    "print(newlist)"
   ]
  },
  {
   "cell_type": "code",
   "execution_count": null,
   "id": "68a0f55f",
   "metadata": {},
   "outputs": [],
   "source": [
    "newlist = [x  for x in fruits if x != \"apple\"]\n",
    "print(newlist)"
   ]
  },
  {
   "cell_type": "code",
   "execution_count": null,
   "id": "bfb12b57",
   "metadata": {},
   "outputs": [],
   "source": [
    "newlist = [x  for x in fruits if \"a\" in x]\n",
    "print(newlist)"
   ]
  },
  {
   "cell_type": "code",
   "execution_count": null,
   "id": "6d07f217",
   "metadata": {},
   "outputs": [],
   "source": [
    "newlist = [x for x in fruits]\n",
    "print(newlist)"
   ]
  },
  {
   "cell_type": "code",
   "execution_count": null,
   "id": "e1084e8d",
   "metadata": {},
   "outputs": [],
   "source": [
    "new = [x for x in range(10)]\n",
    "print(new)"
   ]
  },
  {
   "cell_type": "code",
   "execution_count": null,
   "id": "5153c47b",
   "metadata": {},
   "outputs": [],
   "source": [
    "new = [x for x in range(10) if x < 5]\n",
    "print(new)"
   ]
  },
  {
   "cell_type": "code",
   "execution_count": null,
   "id": "4b3d07d4",
   "metadata": {},
   "outputs": [],
   "source": [
    "newlist = [x.upper() for  x in fruits]\n",
    "print(newlist)"
   ]
  },
  {
   "cell_type": "code",
   "execution_count": null,
   "id": "8522764f",
   "metadata": {},
   "outputs": [],
   "source": [
    "newlist = ['hello' for  x in fruits]\n",
    "print(newlist)"
   ]
  },
  {
   "cell_type": "code",
   "execution_count": null,
   "id": "5237deb1",
   "metadata": {},
   "outputs": [],
   "source": [
    "newlist = [x if x != \"banana\" else \"orange\" for x in fruits]\n",
    "print(newlist)"
   ]
  },
  {
   "cell_type": "code",
   "execution_count": null,
   "id": "34cdcb1f",
   "metadata": {},
   "outputs": [],
   "source": [
    "#copy list and sicing cpopy by using  slice\n",
    "\n",
    "fruits = [\"apple\", \"banana\", \"cherry\", \"kiwi\", \"mango\"]\n",
    "old = fruits.copy()\n",
    "print(old)"
   ]
  },
  {
   "cell_type": "code",
   "execution_count": null,
   "id": "4255bea7",
   "metadata": {},
   "outputs": [],
   "source": [
    "fruits = [\"apple\", \"banana\", \"cherry\", \"kiwi\", \"mango\"]\n",
    "old = fruits[:]\n",
    "print(old)"
   ]
  },
  {
   "cell_type": "code",
   "execution_count": null,
   "id": "4bc98c5c",
   "metadata": {},
   "outputs": [],
   "source": [
    "fruits = (\"apple\", \"banana\", \"cherry\", \"kiwi\", \"mango\")\n",
    "mylist = list(fruits)\n",
    "mylist[4] =\"raju\"\n",
    "fruits = tuple(mylist)\n",
    "print(fruits)\n",
    "print(type(fruits))"
   ]
  },
  {
   "cell_type": "code",
   "execution_count": null,
   "id": "47816d68",
   "metadata": {},
   "outputs": [],
   "source": [
    "fruits = (\"apple\", \"banana\", \"cherry\", \"kiwi\", \"mango\")\n",
    "(rrrr, *tttt, yyyy) = fruits\n",
    "print(rrrr)\n",
    "print(tttt)\n",
    "print(yyyy)"
   ]
  },
  {
   "cell_type": "code",
   "execution_count": null,
   "id": "c9b2b7bc",
   "metadata": {
    "scrolled": true
   },
   "outputs": [],
   "source": [
    "a = 2\n",
    "b = 330\n",
    "print(\"A\") if a > b else print(\"B\")"
   ]
  },
  {
   "cell_type": "code",
   "execution_count": null,
   "id": "2a364f67",
   "metadata": {},
   "outputs": [],
   "source": []
  },
  {
   "cell_type": "code",
   "execution_count": null,
   "id": "e56a6727",
   "metadata": {},
   "outputs": [],
   "source": []
  },
  {
   "cell_type": "code",
   "execution_count": null,
   "id": "176ba149",
   "metadata": {},
   "outputs": [],
   "source": []
  },
  {
   "cell_type": "code",
   "execution_count": null,
   "id": "1cd777a8",
   "metadata": {},
   "outputs": [],
   "source": []
  },
  {
   "cell_type": "code",
   "execution_count": null,
   "id": "62de46d4",
   "metadata": {},
   "outputs": [],
   "source": []
  },
  {
   "cell_type": "code",
   "execution_count": null,
   "id": "d06714f3",
   "metadata": {},
   "outputs": [
    {
     "name": "stdout",
     "output_type": "stream",
     "text": [
      "pygame 2.6.1 (SDL 2.28.4, Python 3.10.9)\n",
      "Hello from the pygame community. https://www.pygame.org/contribute.html\n"
     ]
    }
   ],
   "source": [
    "import pygame\n",
    "import time\n",
    "import os\n",
    "\n",
    "# Pygame setup\n",
    "pygame.init()\n",
    "WIDTH, HEIGHT = 600, 600  # Window size (10x10 meters scaled to 60 pixels per meter)\n",
    "screen = pygame.display.set_mode((WIDTH, HEIGHT))\n",
    "pygame.display.set_caption(\"Warehouse Robot Simulation\")\n",
    "\n",
    "# Colors\n",
    "WHITE = (255, 255, 255)\n",
    "GREEN = (0, 255, 0)\n",
    "\n",
    "# Robot settings\n",
    "robot_position = [0, 0]   # Start position in meters\n",
    "target_position = (7, 9)   # Target in meters (7, 9)\n",
    "scale = 60   # 1 meter = 60 pixels\n",
    "speed = 0.1   # Speed in meters per second\n",
    "move_duration = 0.1   # Move duration in seconds\n",
    "stop_duration = 2   # Stop duration in seconds\n",
    "\n",
    "# Load and scale the robot image\n",
    "robot_img = pygame.image.load('C:/Users/Admin/Untitled Folder 2/robot.png')    # Make sure this file exists\n",
    "robot_img = pygame.transform.scale(robot_img, (30, 30))   # Adjust the size if needed\n",
    "\n",
    "# Function to draw the warehouse, robot, and target\n",
    "def draw_warehouse():\n",
    "    screen.fill(WHITE)\n",
    "    # Draw target position\n",
    "    pygame.draw.circle(screen, GREEN, (target_position[0] * scale, target_position[1] * scale), 10)\n",
    "    # Draw robot image\n",
    "    screen.blit(robot_img, (robot_position[0] * scale, robot_position[1] * scale))\n",
    "    pygame.display.flip()\n",
    "\n",
    "# Main simulation loop\n",
    "running = True\n",
    "moving = True  # Whether the robot is currently moving\n",
    "last_move_time = pygame.time.get_ticks()\n",
    "\n",
    "while running:\n",
    "    for event in pygame.event.get():\n",
    "        if event.type == pygame.QUIT:\n",
    "            running = False\n",
    "\n",
    "    # Draw the current state of the warehouse\n",
    "    draw_warehouse()\n",
    "\n",
    "    # Calculate movement towards target if moving\n",
    "    if moving:\n",
    "        direction_x = target_position[0] - robot_position[0]\n",
    "        direction_y = target_position[1] - robot_position[1]\n",
    "        distance = (direction_x ** 2 + direction_y ** 2) ** 0.5\n",
    "        \n",
    "        # If close enough to target, stop moving\n",
    "        if distance < speed * move_duration:\n",
    "            robot_position = list(target_position)\n",
    "            moving = False\n",
    "        else:\n",
    "            # Normalize direction vector\n",
    "            direction_x /= distance\n",
    "            direction_y /= distance\n",
    "            # Move in direction of target\n",
    "            robot_position[0] += direction_x * speed * move_duration\n",
    "            robot_position[1] += direction_y * speed * move_duration\n",
    "            # Record time of movement\n",
    "            last_move_time = pygame.time.get_ticks()\n",
    "            moving = False  # Stop moving to respect stopping constraint\n",
    "    else:\n",
    "        # Check if stop duration has passed\n",
    "        if pygame.time.get_ticks() - last_move_time > stop_duration * 1000:\n",
    "            moving = True  # Resume moving after stop duration\n",
    "\n",
    "    # Limit frames per second\n",
    "    pygame.time.delay(30)\n",
    "\n",
    "pygame.quit()\n"
   ]
  },
  {
   "cell_type": "code",
   "execution_count": null,
   "id": "9cdebca7",
   "metadata": {},
   "outputs": [],
   "source": []
  }
 ],
 "metadata": {
  "kernelspec": {
   "display_name": "Python 3 (ipykernel)",
   "language": "python",
   "name": "python3"
  },
  "language_info": {
   "codemirror_mode": {
    "name": "ipython",
    "version": 3
   },
   "file_extension": ".py",
   "mimetype": "text/x-python",
   "name": "python",
   "nbconvert_exporter": "python",
   "pygments_lexer": "ipython3",
   "version": "3.10.9"
  }
 },
 "nbformat": 4,
 "nbformat_minor": 5
}
